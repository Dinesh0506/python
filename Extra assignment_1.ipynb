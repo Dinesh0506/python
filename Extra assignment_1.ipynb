{
 "cells": [
  {
   "cell_type": "code",
   "execution_count": 1,
   "id": "af64d8c2",
   "metadata": {},
   "outputs": [
    {
     "name": "stdout",
     "output_type": "stream",
     "text": [
      "Hope AI\n"
     ]
    }
   ],
   "source": [
    "#print Statement\n",
    "print('Hope AI')"
   ]
  },
  {
   "cell_type": "code",
   "execution_count": 5,
   "id": "bf8e4be1",
   "metadata": {},
   "outputs": [
    {
     "name": "stdout",
     "output_type": "stream",
     "text": [
      "enter a institute namehope ai\n",
      "HOPE AI\n"
     ]
    }
   ],
   "source": [
    "#buy input\n",
    "institudename=input('enter a institute name')\n",
    "print(institutename)"
   ]
  },
  {
   "cell_type": "code",
   "execution_count": 6,
   "id": "4f3cf5e2",
   "metadata": {},
   "outputs": [
    {
     "name": "stdout",
     "output_type": "stream",
     "text": [
      "enter a the  name:dineshkumar\n",
      "enter a the your age:23\n",
      "enter a the school name:Hope ai\n",
      "enter a degreeb.e\n",
      "dineshkumar\n",
      "23\n",
      "Hope ai\n",
      "b.e\n"
     ]
    }
   ],
   "source": [
    "#buy inputs\n",
    "name=input(\"enter a the  name:\")\n",
    "age=input(\"enter a the your age:\")\n",
    "school=input(\"enter a the school name:\")\n",
    "degree=input('enter a degree')\n",
    "print(name)\n",
    "print(age)\n",
    "print(school)\n",
    "print(degree)"
   ]
  },
  {
   "cell_type": "code",
   "execution_count": 7,
   "id": "a7072384",
   "metadata": {},
   "outputs": [
    {
     "name": "stdout",
     "output_type": "stream",
     "text": [
      "30\n"
     ]
    }
   ],
   "source": [
    "#addtion\n",
    "#assignment_operations\n",
    "a=10\n",
    "b=20\n",
    "add=a+b\n",
    "print(add)"
   ]
  },
  {
   "cell_type": "code",
   "execution_count": 8,
   "id": "e54e0bcc",
   "metadata": {},
   "outputs": [
    {
     "name": "stdout",
     "output_type": "stream",
     "text": [
      "-10\n"
     ]
    }
   ],
   "source": [
    "#subraction\n",
    "a=10\n",
    "b=20\n",
    "sub=a-b\n",
    "print(sub)"
   ]
  },
  {
   "cell_type": "code",
   "execution_count": 9,
   "id": "10992072",
   "metadata": {},
   "outputs": [
    {
     "name": "stdout",
     "output_type": "stream",
     "text": [
      "200\n"
     ]
    }
   ],
   "source": [
    "#multiplication\n",
    "a=10\n",
    "b=20\n",
    "mul=a*b\n",
    "print(mul)"
   ]
  },
  {
   "cell_type": "code",
   "execution_count": 10,
   "id": "9578a24c",
   "metadata": {},
   "outputs": [
    {
     "name": "stdout",
     "output_type": "stream",
     "text": [
      "0.5\n"
     ]
    }
   ],
   "source": [
    "#division\n",
    "#assignment_operations\n",
    "a=10\n",
    "b=20\n",
    "div=a/b\n",
    "print(div)"
   ]
  },
  {
   "cell_type": "code",
   "execution_count": 11,
   "id": "d619a278",
   "metadata": {},
   "outputs": [
    {
     "name": "stdout",
     "output_type": "stream",
     "text": [
      "0\n"
     ]
    }
   ],
   "source": [
    "#floor_division\n",
    "a=10\n",
    "b=20\n",
    "floordiv=a//b\n",
    "print(floordiv)"
   ]
  },
  {
   "cell_type": "code",
   "execution_count": 12,
   "id": "abbb1489",
   "metadata": {},
   "outputs": [
    {
     "name": "stdout",
     "output_type": "stream",
     "text": [
      "10\n"
     ]
    }
   ],
   "source": [
    "#modulo\n",
    "a=10\n",
    "b=20\n",
    "modulo=a%b\n",
    "print(modulo)"
   ]
  },
  {
   "cell_type": "code",
   "execution_count": 13,
   "id": "dba258ab",
   "metadata": {},
   "outputs": [
    {
     "name": "stdout",
     "output_type": "stream",
     "text": [
      "100000000000000000000\n"
     ]
    }
   ],
   "source": [
    "#power\n",
    "a=10\n",
    "b=20\n",
    "power=a**b\n",
    "print(power)"
   ]
  },
  {
   "cell_type": "code",
   "execution_count": null,
   "id": "6e70f755",
   "metadata": {},
   "outputs": [],
   "source": []
  }
 ],
 "metadata": {
  "kernelspec": {
   "display_name": "Python 3 (ipykernel)",
   "language": "python",
   "name": "python3"
  },
  "language_info": {
   "codemirror_mode": {
    "name": "ipython",
    "version": 3
   },
   "file_extension": ".py",
   "mimetype": "text/x-python",
   "name": "python",
   "nbconvert_exporter": "python",
   "pygments_lexer": "ipython3",
   "version": "3.9.13"
  }
 },
 "nbformat": 4,
 "nbformat_minor": 5
}
