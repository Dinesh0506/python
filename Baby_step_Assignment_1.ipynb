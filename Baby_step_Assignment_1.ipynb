{
 "cells": [
  {
   "cell_type": "code",
   "execution_count": 1,
   "id": "35f4b030",
   "metadata": {},
   "outputs": [
    {
     "name": "stdout",
     "output_type": "stream",
     "text": [
      "40\n"
     ]
    }
   ],
   "source": [
    "#addtion of two numbers_1\n",
    "Num1= 10\n",
    "Num2= 30\n",
    "Add= Num1+Num2\n",
    "print(Add)"
   ]
  },
  {
   "cell_type": "code",
   "execution_count": 2,
   "id": "031cf2de",
   "metadata": {},
   "outputs": [
    {
     "name": "stdout",
     "output_type": "stream",
     "text": [
      "enter the weight of person25\n",
      "the person is overweight\n"
     ]
    }
   ],
   "source": [
    "#Body  Mass  Index_2\n",
    "bodyweight=float(input('enter the weight of person'))\n",
    "if(bodyweight<18.5):\n",
    "    print(\"the person is underweight\")\n",
    "elif(bodyweight<=24.9):\n",
    "    print(\"the person is normal\")\n",
    "elif(bodyweight<=29.9):\n",
    "    print('the person is overweight')\n",
    "elif(bodyweight<=34.9):\n",
    "    print('the person is obesity class1')\n",
    "elif(bodyweight<=39.9):\n",
    "    print('the person is obesity class2')\n",
    "else:\n",
    "    print(\"extreme obesity\")"
   ]
  },
  {
   "cell_type": "code",
   "execution_count": null,
   "id": "5ac73a6a",
   "metadata": {},
   "outputs": [],
   "source": []
  }
 ],
 "metadata": {
  "kernelspec": {
   "display_name": "Python 3 (ipykernel)",
   "language": "python",
   "name": "python3"
  },
  "language_info": {
   "codemirror_mode": {
    "name": "ipython",
    "version": 3
   },
   "file_extension": ".py",
   "mimetype": "text/x-python",
   "name": "python",
   "nbconvert_exporter": "python",
   "pygments_lexer": "ipython3",
   "version": "3.9.13"
  }
 },
 "nbformat": 4,
 "nbformat_minor": 5
}
