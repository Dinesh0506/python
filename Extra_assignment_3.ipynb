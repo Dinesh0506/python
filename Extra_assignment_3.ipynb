{
 "cells": [
  {
   "cell_type": "code",
   "execution_count": 2,
   "id": "c8bca6b7",
   "metadata": {},
   "outputs": [
    {
     "name": "stdout",
     "output_type": "stream",
     "text": [
      "value: 10\n",
      "correct\n"
     ]
    }
   ],
   "source": [
    "#if_condition\n",
    "i=int(input('value: '))\n",
    "if i==10:\n",
    "    print(\"correct\")"
   ]
  },
  {
   "cell_type": "code",
   "execution_count": 3,
   "id": "1953d257",
   "metadata": {},
   "outputs": [
    {
     "name": "stdout",
     "output_type": "stream",
     "text": [
      "enter a passwordhope@123\n",
      "correct\n"
     ]
    }
   ],
   "source": [
    "#if_else\n",
    "password=input('enter a password')\n",
    "if password=='hope@123':\n",
    "    print('correct')\n",
    "else:\n",
    "    print('incorrect')"
   ]
  },
  {
   "cell_type": "code",
   "execution_count": 4,
   "id": "3c728fd7",
   "metadata": {},
   "outputs": [
    {
     "name": "stdout",
     "output_type": "stream",
     "text": [
      "enter a age is50\n",
      "50 senior citizen\n"
     ]
    }
   ],
   "source": [
    "# Catagory the people by their age like children, adult, citizen, senior citizen\n",
    "age=int(input('enter a age is'))\n",
    "if(age<18):\n",
    "    print(age,'childran')\n",
    "elif(age<25):\n",
    "    print(age,'adult')\n",
    "elif(age<45):\n",
    "    print(age,'citizen')\n",
    "else:\n",
    "    print(age,'senior citizen')\n",
    "    "
   ]
  },
  {
   "cell_type": "code",
   "execution_count": 9,
   "id": "c4e857da",
   "metadata": {},
   "outputs": [
    {
     "name": "stdout",
     "output_type": "stream",
     "text": [
      "Input a number: -1\n",
      "-1.0 is a negative number\n"
     ]
    }
   ],
   "source": [
    "#nagative or postive number finding\n",
    "num = float(input(\"Input a number: \"))\n",
    "if num > 0:\n",
    "   print(num,\"is positive number\")\n",
    "elif num == 0:\n",
    "   print(num,\"is Zero\")\n",
    "else:\n",
    "   print(num,\"is a negative number\")"
   ]
  },
  {
   "cell_type": "code",
   "execution_count": 8,
   "id": "579e827d",
   "metadata": {},
   "outputs": [
    {
     "name": "stdout",
     "output_type": "stream",
     "text": [
      "Input a number: 22\n",
      "22 is not divisible by 5\n"
     ]
    }
   ],
   "source": [
    "#divisiable using modelo operator\n",
    "num = int(input(\"Input a number: \"))\n",
    "if num%5== 0:\n",
    "   print(num,\"is divisible\")\n",
    "else:\n",
    "    print(num,'is not divisible by 5')"
   ]
  },
  {
   "cell_type": "code",
   "execution_count": null,
   "id": "01b27730",
   "metadata": {},
   "outputs": [],
   "source": []
  }
 ],
 "metadata": {
  "kernelspec": {
   "display_name": "Python 3 (ipykernel)",
   "language": "python",
   "name": "python3"
  },
  "language_info": {
   "codemirror_mode": {
    "name": "ipython",
    "version": 3
   },
   "file_extension": ".py",
   "mimetype": "text/x-python",
   "name": "python",
   "nbconvert_exporter": "python",
   "pygments_lexer": "ipython3",
   "version": "3.9.13"
  }
 },
 "nbformat": 4,
 "nbformat_minor": 5
}
